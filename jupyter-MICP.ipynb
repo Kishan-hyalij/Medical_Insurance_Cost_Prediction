{
 "cells": [
  {
   "cell_type": "markdown",
   "id": "a7b2b4f5",
   "metadata": {},
   "source": [
    "Importing Libraries"
   ]
  },
  {
   "cell_type": "code",
   "execution_count": null,
   "id": "99707399",
   "metadata": {},
   "outputs": [],
   "source": []
  }
 ],
 "metadata": {
  "language_info": {
   "name": "python"
  }
 },
 "nbformat": 4,
 "nbformat_minor": 5
}
